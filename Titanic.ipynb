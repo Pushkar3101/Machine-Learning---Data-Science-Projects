{
  "cells": [
    {
      "metadata": {
        "_uuid": "8f2839f25d086af736a60e9eeb907d3b93b6e0e5",
        "_cell_guid": "b1076dfc-b9ad-4769-8c92-a6c4dae69d19",
        "trusted": true
      },
      "cell_type": "code",
      "source": "# This Python 3 environment comes with many helpful analytics libraries installed\n# It is defined by the kaggle/python docker image: https://github.com/kaggle/docker-python\n# For example, here's several helpful packages to load in \n\nimport numpy as np # linear algebra\nimport pandas as pd # data processing, CSV file I/O (e.g. pd.read_csv)\n\n# Input data files are available in the \"../input/\" directory.\n# For example, running this (by clicking run or pressing Shift+Enter) will list the files in the input directory\n\nimport os\nprint(os.listdir(\"../input\"))\n\n# Any results you write to the current directory are saved as output.",
      "execution_count": 3,
      "outputs": [
        {
          "output_type": "stream",
          "text": "['train.csv', 'gender_submission.csv', 'test.csv']\n",
          "name": "stdout"
        }
      ]
    },
    {
      "metadata": {
        "_cell_guid": "79c7e3d0-c299-4dcb-8224-4455121ee9b0",
        "_uuid": "d629ff2d2480ee46fbb7e2d37f6b5fab8052498a",
        "trusted": true
      },
      "cell_type": "code",
      "source": "train = pd.read_csv(\"../input/train.csv\")\ntrain.head()",
      "execution_count": 4,
      "outputs": [
        {
          "output_type": "execute_result",
          "execution_count": 4,
          "data": {
            "text/plain": "   PassengerId  Survived  Pclass    ...        Fare Cabin  Embarked\n0            1         0       3    ...      7.2500   NaN         S\n1            2         1       1    ...     71.2833   C85         C\n2            3         1       3    ...      7.9250   NaN         S\n3            4         1       1    ...     53.1000  C123         S\n4            5         0       3    ...      8.0500   NaN         S\n\n[5 rows x 12 columns]",
            "text/html": "<div>\n<style scoped>\n    .dataframe tbody tr th:only-of-type {\n        vertical-align: middle;\n    }\n\n    .dataframe tbody tr th {\n        vertical-align: top;\n    }\n\n    .dataframe thead th {\n        text-align: right;\n    }\n</style>\n<table border=\"1\" class=\"dataframe\">\n  <thead>\n    <tr style=\"text-align: right;\">\n      <th></th>\n      <th>PassengerId</th>\n      <th>Survived</th>\n      <th>Pclass</th>\n      <th>Name</th>\n      <th>Sex</th>\n      <th>Age</th>\n      <th>SibSp</th>\n      <th>Parch</th>\n      <th>Ticket</th>\n      <th>Fare</th>\n      <th>Cabin</th>\n      <th>Embarked</th>\n    </tr>\n  </thead>\n  <tbody>\n    <tr>\n      <th>0</th>\n      <td>1</td>\n      <td>0</td>\n      <td>3</td>\n      <td>Braund, Mr. Owen Harris</td>\n      <td>male</td>\n      <td>22.0</td>\n      <td>1</td>\n      <td>0</td>\n      <td>A/5 21171</td>\n      <td>7.2500</td>\n      <td>NaN</td>\n      <td>S</td>\n    </tr>\n    <tr>\n      <th>1</th>\n      <td>2</td>\n      <td>1</td>\n      <td>1</td>\n      <td>Cumings, Mrs. John Bradley (Florence Briggs Th...</td>\n      <td>female</td>\n      <td>38.0</td>\n      <td>1</td>\n      <td>0</td>\n      <td>PC 17599</td>\n      <td>71.2833</td>\n      <td>C85</td>\n      <td>C</td>\n    </tr>\n    <tr>\n      <th>2</th>\n      <td>3</td>\n      <td>1</td>\n      <td>3</td>\n      <td>Heikkinen, Miss. Laina</td>\n      <td>female</td>\n      <td>26.0</td>\n      <td>0</td>\n      <td>0</td>\n      <td>STON/O2. 3101282</td>\n      <td>7.9250</td>\n      <td>NaN</td>\n      <td>S</td>\n    </tr>\n    <tr>\n      <th>3</th>\n      <td>4</td>\n      <td>1</td>\n      <td>1</td>\n      <td>Futrelle, Mrs. Jacques Heath (Lily May Peel)</td>\n      <td>female</td>\n      <td>35.0</td>\n      <td>1</td>\n      <td>0</td>\n      <td>113803</td>\n      <td>53.1000</td>\n      <td>C123</td>\n      <td>S</td>\n    </tr>\n    <tr>\n      <th>4</th>\n      <td>5</td>\n      <td>0</td>\n      <td>3</td>\n      <td>Allen, Mr. William Henry</td>\n      <td>male</td>\n      <td>35.0</td>\n      <td>0</td>\n      <td>0</td>\n      <td>373450</td>\n      <td>8.0500</td>\n      <td>NaN</td>\n      <td>S</td>\n    </tr>\n  </tbody>\n</table>\n</div>"
          },
          "metadata": {}
        }
      ]
    },
    {
      "metadata": {
        "trusted": true,
        "_uuid": "cc6dc2b2879c878f8505627a4bc8c90188b57d30"
      },
      "cell_type": "code",
      "source": "train.shape",
      "execution_count": 5,
      "outputs": [
        {
          "output_type": "execute_result",
          "execution_count": 5,
          "data": {
            "text/plain": "(891, 12)"
          },
          "metadata": {}
        }
      ]
    },
    {
      "metadata": {
        "trusted": true,
        "_uuid": "e422c5e557f9bccfecb5d97ec193b01caf7d3fde"
      },
      "cell_type": "code",
      "source": "train.describe",
      "execution_count": 6,
      "outputs": [
        {
          "output_type": "execute_result",
          "execution_count": 6,
          "data": {
            "text/plain": "<bound method NDFrame.describe of      PassengerId  Survived  Pclass    ...         Fare        Cabin  Embarked\n0              1         0       3    ...       7.2500          NaN         S\n1              2         1       1    ...      71.2833          C85         C\n2              3         1       3    ...       7.9250          NaN         S\n3              4         1       1    ...      53.1000         C123         S\n4              5         0       3    ...       8.0500          NaN         S\n5              6         0       3    ...       8.4583          NaN         Q\n6              7         0       1    ...      51.8625          E46         S\n7              8         0       3    ...      21.0750          NaN         S\n8              9         1       3    ...      11.1333          NaN         S\n9             10         1       2    ...      30.0708          NaN         C\n10            11         1       3    ...      16.7000           G6         S\n11            12         1       1    ...      26.5500         C103         S\n12            13         0       3    ...       8.0500          NaN         S\n13            14         0       3    ...      31.2750          NaN         S\n14            15         0       3    ...       7.8542          NaN         S\n15            16         1       2    ...      16.0000          NaN         S\n16            17         0       3    ...      29.1250          NaN         Q\n17            18         1       2    ...      13.0000          NaN         S\n18            19         0       3    ...      18.0000          NaN         S\n19            20         1       3    ...       7.2250          NaN         C\n20            21         0       2    ...      26.0000          NaN         S\n21            22         1       2    ...      13.0000          D56         S\n22            23         1       3    ...       8.0292          NaN         Q\n23            24         1       1    ...      35.5000           A6         S\n24            25         0       3    ...      21.0750          NaN         S\n25            26         1       3    ...      31.3875          NaN         S\n26            27         0       3    ...       7.2250          NaN         C\n27            28         0       1    ...     263.0000  C23 C25 C27         S\n28            29         1       3    ...       7.8792          NaN         Q\n29            30         0       3    ...       7.8958          NaN         S\n..           ...       ...     ...    ...          ...          ...       ...\n861          862         0       2    ...      11.5000          NaN         S\n862          863         1       1    ...      25.9292          D17         S\n863          864         0       3    ...      69.5500          NaN         S\n864          865         0       2    ...      13.0000          NaN         S\n865          866         1       2    ...      13.0000          NaN         S\n866          867         1       2    ...      13.8583          NaN         C\n867          868         0       1    ...      50.4958          A24         S\n868          869         0       3    ...       9.5000          NaN         S\n869          870         1       3    ...      11.1333          NaN         S\n870          871         0       3    ...       7.8958          NaN         S\n871          872         1       1    ...      52.5542          D35         S\n872          873         0       1    ...       5.0000  B51 B53 B55         S\n873          874         0       3    ...       9.0000          NaN         S\n874          875         1       2    ...      24.0000          NaN         C\n875          876         1       3    ...       7.2250          NaN         C\n876          877         0       3    ...       9.8458          NaN         S\n877          878         0       3    ...       7.8958          NaN         S\n878          879         0       3    ...       7.8958          NaN         S\n879          880         1       1    ...      83.1583          C50         C\n880          881         1       2    ...      26.0000          NaN         S\n881          882         0       3    ...       7.8958          NaN         S\n882          883         0       3    ...      10.5167          NaN         S\n883          884         0       2    ...      10.5000          NaN         S\n884          885         0       3    ...       7.0500          NaN         S\n885          886         0       3    ...      29.1250          NaN         Q\n886          887         0       2    ...      13.0000          NaN         S\n887          888         1       1    ...      30.0000          B42         S\n888          889         0       3    ...      23.4500          NaN         S\n889          890         1       1    ...      30.0000         C148         C\n890          891         0       3    ...       7.7500          NaN         Q\n\n[891 rows x 12 columns]>"
          },
          "metadata": {}
        }
      ]
    },
    {
      "metadata": {
        "trusted": true,
        "_uuid": "5a135a1bf4961c6cad6965c1b0ce97ac519b8197"
      },
      "cell_type": "code",
      "source": "test=pd.read_csv(\"../input/test.csv\")\ntest.head()",
      "execution_count": 7,
      "outputs": [
        {
          "output_type": "execute_result",
          "execution_count": 7,
          "data": {
            "text/plain": "   PassengerId  Pclass   ...    Cabin Embarked\n0          892       3   ...      NaN        Q\n1          893       3   ...      NaN        S\n2          894       2   ...      NaN        Q\n3          895       3   ...      NaN        S\n4          896       3   ...      NaN        S\n\n[5 rows x 11 columns]",
            "text/html": "<div>\n<style scoped>\n    .dataframe tbody tr th:only-of-type {\n        vertical-align: middle;\n    }\n\n    .dataframe tbody tr th {\n        vertical-align: top;\n    }\n\n    .dataframe thead th {\n        text-align: right;\n    }\n</style>\n<table border=\"1\" class=\"dataframe\">\n  <thead>\n    <tr style=\"text-align: right;\">\n      <th></th>\n      <th>PassengerId</th>\n      <th>Pclass</th>\n      <th>Name</th>\n      <th>Sex</th>\n      <th>Age</th>\n      <th>SibSp</th>\n      <th>Parch</th>\n      <th>Ticket</th>\n      <th>Fare</th>\n      <th>Cabin</th>\n      <th>Embarked</th>\n    </tr>\n  </thead>\n  <tbody>\n    <tr>\n      <th>0</th>\n      <td>892</td>\n      <td>3</td>\n      <td>Kelly, Mr. James</td>\n      <td>male</td>\n      <td>34.5</td>\n      <td>0</td>\n      <td>0</td>\n      <td>330911</td>\n      <td>7.8292</td>\n      <td>NaN</td>\n      <td>Q</td>\n    </tr>\n    <tr>\n      <th>1</th>\n      <td>893</td>\n      <td>3</td>\n      <td>Wilkes, Mrs. James (Ellen Needs)</td>\n      <td>female</td>\n      <td>47.0</td>\n      <td>1</td>\n      <td>0</td>\n      <td>363272</td>\n      <td>7.0000</td>\n      <td>NaN</td>\n      <td>S</td>\n    </tr>\n    <tr>\n      <th>2</th>\n      <td>894</td>\n      <td>2</td>\n      <td>Myles, Mr. Thomas Francis</td>\n      <td>male</td>\n      <td>62.0</td>\n      <td>0</td>\n      <td>0</td>\n      <td>240276</td>\n      <td>9.6875</td>\n      <td>NaN</td>\n      <td>Q</td>\n    </tr>\n    <tr>\n      <th>3</th>\n      <td>895</td>\n      <td>3</td>\n      <td>Wirz, Mr. Albert</td>\n      <td>male</td>\n      <td>27.0</td>\n      <td>0</td>\n      <td>0</td>\n      <td>315154</td>\n      <td>8.6625</td>\n      <td>NaN</td>\n      <td>S</td>\n    </tr>\n    <tr>\n      <th>4</th>\n      <td>896</td>\n      <td>3</td>\n      <td>Hirvonen, Mrs. Alexander (Helga E Lindqvist)</td>\n      <td>female</td>\n      <td>22.0</td>\n      <td>1</td>\n      <td>1</td>\n      <td>3101298</td>\n      <td>12.2875</td>\n      <td>NaN</td>\n      <td>S</td>\n    </tr>\n  </tbody>\n</table>\n</div>"
          },
          "metadata": {}
        }
      ]
    },
    {
      "metadata": {
        "trusted": true,
        "_uuid": "567994038b6b67f781b9e760c9905287d0941cb7"
      },
      "cell_type": "code",
      "source": "test.shape",
      "execution_count": 8,
      "outputs": [
        {
          "output_type": "execute_result",
          "execution_count": 8,
          "data": {
            "text/plain": "(418, 11)"
          },
          "metadata": {}
        }
      ]
    },
    {
      "metadata": {
        "trusted": true,
        "_uuid": "93ab32b58f22c6e7898471e6966c247ab28a594d"
      },
      "cell_type": "code",
      "source": "import matplotlib.pyplot as plt\n%matplotlib inline\nsex_pivot = train.pivot_table(index=\"Sex\",values=\"Survived\")\nsex_pivot.plot.bar()\nplt.show()",
      "execution_count": 10,
      "outputs": [
        {
          "output_type": "display_data",
          "data": {
            "text/plain": "<Figure size 432x288 with 1 Axes>",
            "image/png": "[encoded data removed]"
          },
          "metadata": {}
        }
      ]
    },
    {
      "metadata": {
        "trusted": true,
        "_uuid": "23337bf45048a00c276c6d0837016c4c9d639649"
      },
      "cell_type": "code",
      "source": "pclass_pivot = train.pivot_table(index=\"Pclass\",values='Survived')\npclass_pivot.plot.bar()\nplt.show()",
      "execution_count": 11,
      "outputs": [
        {
          "output_type": "display_data",
          "data": {
            "text/plain": "<Figure size 432x288 with 1 Axes>",
            "image/png": "[encoded data removed]"
          },
          "metadata": {}
        }
      ]
    },
    {
      "metadata": {
        "trusted": true,
        "_uuid": "90b26596c6b381b7924a9621620f462dc10b54b8"
      },
      "cell_type": "code",
      "source": "train[\"Age\"].describe()",
      "execution_count": 13,
      "outputs": [
        {
          "output_type": "execute_result",
          "execution_count": 13,
          "data": {
            "text/plain": "count    714.000000\nmean      29.699118\nstd       14.526497\nmin        0.420000\n25%       20.125000\n50%       28.000000\n75%       38.000000\nmax       80.000000\nName: Age, dtype: float64"
          },
          "metadata": {}
        }
      ]
    },
    {
      "metadata": {
        "trusted": true,
        "_uuid": "36c65d45c772364811741a06e1dc372342a949c5"
      },
      "cell_type": "code",
      "source": "survived = train[train[\"Survived\"]==1]\ndied = train[train[\"Survived\"]==0]\nsurvived[\"Age\"].plot.hist(alpha=0.5,color = 'red',bins =50)\ndied[\"Age\"].plot.hist(alpha=0.5,color='blue',bins =50)\nplt.legend(['survived','died'])\nplt.show()",
      "execution_count": 15,
      "outputs": [
        {
          "output_type": "display_data",
          "data": {
            "text/plain": "<Figure size 432x288 with 1 Axes>",
            "image/png": "[encoded data removed]"
          },
          "metadata": {}
        }
      ]
    },
    {
      "metadata": {
        "trusted": true,
        "_uuid": "f494e370330f8b139edb987a31f3c016ed648ac4"
      },
      "cell_type": "code",
      "source": "def process_age(df,cut_points,label_names):\n    df[\"Age\"] = df[\"Age\"].fillna(-0.5)\n    df[\"Age_cat\"] = pd.cut(df[\"Age\"],cut_points,labels=label_names)\n    return df",
      "execution_count": 16,
      "outputs": []
    },
    {
      "metadata": {
        "trusted": true,
        "_uuid": "059beffde8c937fd8f0e3c198abc1b2d150ed315"
      },
      "cell_type": "code",
      "source": "cut_points = [-1,0,5,12,18,35,60,100]\nlabel_names = [\"Missing\",\"Infant\",\"Child\",\"Teen\",\"Young\",\"Adult\",\"Senior\"]\n\ntrain=process_age(train,cut_points,label_names)\ntest =process_age(test,cut_points,label_names)\n\npivot = train.pivot_table(index = \"Age_cat\",values =\"Survived\")\npivot.plot.bar()\nplt.show()",
      "execution_count": 18,
      "outputs": [
        {
          "output_type": "display_data",
          "data": {
            "text/plain": "<Figure size 432x288 with 1 Axes>",
            "image/png": "[encoded data removed]"
          },
          "metadata": {}
        }
      ]
    },
    {
      "metadata": {
        "trusted": true,
        "_uuid": "4cd90d949a2c0fb1ba605c3363edfbae2a533c7d"
      },
      "cell_type": "code",
      "source": "train[\"Pclass\"].value_counts()",
      "execution_count": 19,
      "outputs": [
        {
          "output_type": "execute_result",
          "execution_count": 19,
          "data": {
            "text/plain": "3    491\n1    216\n2    184\nName: Pclass, dtype: int64"
          },
          "metadata": {}
        }
      ]
    },
    {
      "metadata": {
        "trusted": true,
        "_uuid": "5f7668a730b5878f916fddadb2af701d9e468946"
      },
      "cell_type": "code",
      "source": "def create_dummy(df,column_name):\n    dummy = pd.get_dummies(df[column_name],prefix = column_name)\n    df = pd.concat([df,dummy],axis =1)\n    return df\n",
      "execution_count": 24,
      "outputs": []
    },
    {
      "metadata": {
        "trusted": true,
        "_uuid": "eecee059d7613364ec596a9d0c2b23f4b7f8ea0c"
      },
      "cell_type": "code",
      "source": "for col in [\"Pclass\",\"Sex\",\"Age_cat\"]:\n    train = create_dummy(train,col)\n    test = create_dummy(test,col)",
      "execution_count": 25,
      "outputs": []
    },
    {
      "metadata": {
        "trusted": true,
        "_uuid": "ee3de84a7a57451de1da6599318f327da8693977"
      },
      "cell_type": "code",
      "source": "train.head()",
      "execution_count": 26,
      "outputs": [
        {
          "output_type": "execute_result",
          "execution_count": 26,
          "data": {
            "text/plain": "   PassengerId  Survived      ...        Age_cat_Adult Age_cat_Senior\n0            1         0      ...                    0              0\n1            2         1      ...                    1              0\n2            3         1      ...                    0              0\n3            4         1      ...                    0              0\n4            5         0      ...                    0              0\n\n[5 rows x 25 columns]",
            "text/html": "<div>\n<style scoped>\n    .dataframe tbody tr th:only-of-type {\n        vertical-align: middle;\n    }\n\n    .dataframe tbody tr th {\n        vertical-align: top;\n    }\n\n    .dataframe thead th {\n        text-align: right;\n    }\n</style>\n<table border=\"1\" class=\"dataframe\">\n  <thead>\n    <tr style=\"text-align: right;\">\n      <th></th>\n      <th>PassengerId</th>\n      <th>Survived</th>\n      <th>Pclass</th>\n      <th>Name</th>\n      <th>Sex</th>\n      <th>Age</th>\n      <th>SibSp</th>\n      <th>Parch</th>\n      <th>Ticket</th>\n      <th>Fare</th>\n      <th>Cabin</th>\n      <th>Embarked</th>\n      <th>Age_cat</th>\n      <th>Pclass_1</th>\n      <th>Pclass_2</th>\n      <th>Pclass_3</th>\n      <th>Sex_female</th>\n      <th>Sex_male</th>\n      <th>Age_cat_Missing</th>\n      <th>Age_cat_Infant</th>\n      <th>Age_cat_Child</th>\n      <th>Age_cat_Teen</th>\n      <th>Age_cat_Young</th>\n      <th>Age_cat_Adult</th>\n      <th>Age_cat_Senior</th>\n    </tr>\n  </thead>\n  <tbody>\n    <tr>\n      <th>0</th>\n      <td>1</td>\n      <td>0</td>\n      <td>3</td>\n      <td>Braund, Mr. Owen Harris</td>\n      <td>male</td>\n      <td>22.0</td>\n      <td>1</td>\n      <td>0</td>\n      <td>A/5 21171</td>\n      <td>7.2500</td>\n      <td>NaN</td>\n      <td>S</td>\n      <td>Young</td>\n      <td>0</td>\n      <td>0</td>\n      <td>1</td>\n      <td>0</td>\n      <td>1</td>\n      <td>0</td>\n      <td>0</td>\n      <td>0</td>\n      <td>0</td>\n      <td>1</td>\n      <td>0</td>\n      <td>0</td>\n    </tr>\n    <tr>\n      <th>1</th>\n      <td>2</td>\n      <td>1</td>\n      <td>1</td>\n      <td>Cumings, Mrs. John Bradley (Florence Briggs Th...</td>\n      <td>female</td>\n      <td>38.0</td>\n      <td>1</td>\n      <td>0</td>\n      <td>PC 17599</td>\n      <td>71.2833</td>\n      <td>C85</td>\n      <td>C</td>\n      <td>Adult</td>\n      <td>1</td>\n      <td>0</td>\n      <td>0</td>\n      <td>1</td>\n      <td>0</td>\n      <td>0</td>\n      <td>0</td>\n      <td>0</td>\n      <td>0</td>\n      <td>0</td>\n      <td>1</td>\n      <td>0</td>\n    </tr>\n    <tr>\n      <th>2</th>\n      <td>3</td>\n      <td>1</td>\n      <td>3</td>\n      <td>Heikkinen, Miss. Laina</td>\n      <td>female</td>\n      <td>26.0</td>\n      <td>0</td>\n      <td>0</td>\n      <td>STON/O2. 3101282</td>\n      <td>7.9250</td>\n      <td>NaN</td>\n      <td>S</td>\n      <td>Young</td>\n      <td>0</td>\n      <td>0</td>\n      <td>1</td>\n      <td>1</td>\n      <td>0</td>\n      <td>0</td>\n      <td>0</td>\n      <td>0</td>\n      <td>0</td>\n      <td>1</td>\n      <td>0</td>\n      <td>0</td>\n    </tr>\n    <tr>\n      <th>3</th>\n      <td>4</td>\n      <td>1</td>\n      <td>1</td>\n      <td>Futrelle, Mrs. Jacques Heath (Lily May Peel)</td>\n      <td>female</td>\n      <td>35.0</td>\n      <td>1</td>\n      <td>0</td>\n      <td>113803</td>\n      <td>53.1000</td>\n      <td>C123</td>\n      <td>S</td>\n      <td>Young</td>\n      <td>1</td>\n      <td>0</td>\n      <td>0</td>\n      <td>1</td>\n      <td>0</td>\n      <td>0</td>\n      <td>0</td>\n      <td>0</td>\n      <td>0</td>\n      <td>1</td>\n      <td>0</td>\n      <td>0</td>\n    </tr>\n    <tr>\n      <th>4</th>\n      <td>5</td>\n      <td>0</td>\n      <td>3</td>\n      <td>Allen, Mr. William Henry</td>\n      <td>male</td>\n      <td>35.0</td>\n      <td>0</td>\n      <td>0</td>\n      <td>373450</td>\n      <td>8.0500</td>\n      <td>NaN</td>\n      <td>S</td>\n      <td>Young</td>\n      <td>0</td>\n      <td>0</td>\n      <td>1</td>\n      <td>0</td>\n      <td>1</td>\n      <td>0</td>\n      <td>0</td>\n      <td>0</td>\n      <td>0</td>\n      <td>1</td>\n      <td>0</td>\n      <td>0</td>\n    </tr>\n  </tbody>\n</table>\n</div>"
          },
          "metadata": {}
        }
      ]
    },
    {
      "metadata": {
        "trusted": true,
        "_uuid": "e3e644c40fa4e3e1ea6f5a285276c591917a7ca7"
      },
      "cell_type": "code",
      "source": "from sklearn.linear_model import LogisticRegression\ncolumns = ['Pclass_1','Pclass_2','Pclass_3','Sex_female','Sex_male','Age_cat_Missing','Age_cat_Infant','Age_cat_Child','Age_cat_Teen','Age_cat_Young','Age_cat_Adult','Age_cat_Senior']\nlr = LogisticRegression()\nlr.fit(train[columns],train[\"Survived\"])",
      "execution_count": 27,
      "outputs": [
        {
          "output_type": "stream",
          "text": "/opt/conda/lib/python3.6/site-packages/sklearn/linear_model/logistic.py:433: FutureWarning: Default solver will be changed to 'lbfgs' in 0.22. Specify a solver to silence this warning.\n  FutureWarning)\n",
          "name": "stderr"
        },
        {
          "output_type": "execute_result",
          "execution_count": 27,
          "data": {
            "text/plain": "LogisticRegression(C=1.0, class_weight=None, dual=False, fit_intercept=True,\n          intercept_scaling=1, max_iter=100, multi_class='warn',\n          n_jobs=None, penalty='l2', random_state=None, solver='warn',\n          tol=0.0001, verbose=0, warm_start=False)"
          },
          "metadata": {}
        }
      ]
    },
    {
      "metadata": {
        "trusted": true,
        "_uuid": "26755c14436c1094a4b1ff0cfe7dbc087c520c8c"
      },
      "cell_type": "code",
      "source": "hold =test\nfrom sklearn.model_selection import train_test_split\nX_train,X_test,Y_train,Y_test = train_test_split(train[columns],train[\"Survived\"],test_size=0.20,random_state =0)\npred = lr.fit(X_train,Y_train).predict(X_test)",
      "execution_count": 33,
      "outputs": [
        {
          "output_type": "stream",
          "text": "/opt/conda/lib/python3.6/site-packages/sklearn/linear_model/logistic.py:433: FutureWarning: Default solver will be changed to 'lbfgs' in 0.22. Specify a solver to silence this warning.\n  FutureWarning)\n",
          "name": "stderr"
        }
      ]
    },
    {
      "metadata": {
        "trusted": true,
        "_uuid": "eafa7732d7a11d9a9a4ed1e8e8ca4f71d8dae00f"
      },
      "cell_type": "code",
      "source": "from sklearn.metrics import accuracy_score\nprint(accuracy_score(Y_test,pred))",
      "execution_count": 35,
      "outputs": [
        {
          "output_type": "stream",
          "text": "0.8100558659217877\n",
          "name": "stdout"
        }
      ]
    },
    {
      "metadata": {
        "trusted": true,
        "_uuid": "87850204c998b8d5df28a2e48432d92469299380"
      },
      "cell_type": "code",
      "source": "holdout_pred = lr.predict(hold[columns])",
      "execution_count": 36,
      "outputs": []
    },
    {
      "metadata": {
        "trusted": true,
        "_uuid": "6e77045f20773ca1c62626bb40c5160ac2bfd92d"
      },
      "cell_type": "code",
      "source": "holdout_id = hold[\"PassengerId\"]\nsub_df = {\"PassengerId\":holdout_id,\"Survived\":holdout_pred}\nsubmission = pd.DataFrame(sub_df)",
      "execution_count": 37,
      "outputs": []
    },
    {
      "metadata": {
        "trusted": true,
        "_uuid": "c739dff3d7ac98c0dbb4e7246dfb7418aeb1b7a1"
      },
      "cell_type": "code",
      "source": "submission.to_csv(\"submission_csv\",index=False)",
      "execution_count": null,
      "outputs": []
    },
    {
      "metadata": {
        "trusted": true,
        "_uuid": "d6b7ed382326c86dea367e48275146f07053ba22"
      },
      "cell_type": "code",
      "source": "",
      "execution_count": null,
      "outputs": []
    }
  ],
  "metadata": {
    "kernelspec": {
      "display_name": "Python 3",
      "language": "python",
      "name": "python3"
    },
    "language_info": {
      "name": "python",
      "version": "3.6.6",
      "mimetype": "text/x-python",
      "codemirror_mode": {
        "name": "ipython",
        "version": 3
      },
      "pygments_lexer": "ipython3",
      "nbconvert_exporter": "python",
      "file_extension": ".py"
    }
  },
  "nbformat": 4,
  "nbformat_minor": 1
}