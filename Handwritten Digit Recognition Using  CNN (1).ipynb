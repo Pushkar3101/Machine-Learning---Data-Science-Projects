{
 "cells": [
  {
   "cell_type": "markdown",
   "metadata": {},
   "source": [
    "# Handwritten Digit Recognition in Python using Convolutional Neural Networks with Keras "
   ]
  },
  {
   "cell_type": "markdown",
   "metadata": {},
   "source": [
    "In this notebook, we will explore :\n",
    "- load and use the MNIST Dataset in keras\n",
    "- Develop and evaluate a base model\n",
    "- Develop and evaluate a convolutional neral network for this dataset"
   ]
  },
  {
   "cell_type": "code",
   "execution_count": 1,
   "metadata": {},
   "outputs": [
    {
     "name": "stderr",
     "output_type": "stream",
     "text": [
      "C:\\Users\\pushkar\\Anaconda3\\anaconda_\\lib\\site-packages\\h5py\\__init__.py:36: FutureWarning: Conversion of the second argument of issubdtype from `float` to `np.floating` is deprecated. In future, it will be treated as `np.float64 == np.dtype(float).type`.\n",
      "  from ._conv import register_converters as _register_converters\n",
      "Using TensorFlow backend.\n"
     ]
    },
    {
     "data": {
      "image/png": "[encoded data removed]",
      "text/plain": [
       "<Figure size 432x288 with 4 Axes>"
      ]
     },
     "metadata": {},
     "output_type": "display_data"
    }
   ],
   "source": [
    "from keras.datasets import mnist\n",
    "import matplotlib.pyplot as plt\n",
    "%matplotlib inline\n",
    "\n",
    "(X_train,y_train),(X_test,y_test) = mnist.load_data()\n",
    "for i in range(4):\n",
    "    \n",
    "    plt.subplot(221+ i)\n",
    "    plt.imshow(X_train[i],cmap =plt.get_cmap('gray'))\n",
    "plt.show()\n",
    "    \n"
   ]
  },
  {
   "cell_type": "markdown",
   "metadata": {},
   "source": [
    "We can clearly see the digits in above figure. Now we move to make a baseline model to check the accuracy and error rate.Further, we'll compare it's efficiency to CNN model ."
   ]
  },
  {
   "cell_type": "markdown",
   "metadata": {},
   "source": [
    "## Baseline  Model "
   ]
  },
  {
   "cell_type": "code",
   "execution_count": 2,
   "metadata": {},
   "outputs": [],
   "source": [
    "import numpy as np\n",
    "import pandas as pd\n",
    "from keras.datasets import mnist\n",
    "from keras.models import Sequential\n",
    "from keras.layers import Dense\n",
    "from keras.layers import Dropout\n",
    "from keras.utils import np_utils"
   ]
  },
  {
   "cell_type": "markdown",
   "metadata": {},
   "source": [
    "let's initialise random seed for reproducibility"
   ]
  },
  {
   "cell_type": "code",
   "execution_count": 3,
   "metadata": {},
   "outputs": [],
   "source": [
    "seed =7\n",
    "np.random.seed(seed)"
   ]
  },
  {
   "cell_type": "markdown",
   "metadata": {},
   "source": [
    "For a multi-layer perceptron model we must reduce the images down into a vector of pixels. In this case the 28×28 sized images will be 784 pixel input values.We'll do this using reshape() function of numpy"
   ]
  },
  {
   "cell_type": "code",
   "execution_count": 4,
   "metadata": {},
   "outputs": [
    {
     "name": "stdout",
     "output_type": "stream",
     "text": [
      "(60000, 28, 28)\n",
      "(10000, 28, 28)\n",
      "(60000,)\n",
      "(10000,)\n"
     ]
    }
   ],
   "source": [
    "print(X_train.shape)\n",
    "print(X_test.shape)\n",
    "print(y_train.shape)\n",
    "print(y_test.shape)"
   ]
  },
  {
   "cell_type": "code",
   "execution_count": 5,
   "metadata": {},
   "outputs": [],
   "source": [
    "# flatten  28*28 image to a 784 vector\n",
    "num_pix = X_train.shape[1]* X_train.shape[2]\n",
    "X_train = X_train.reshape(X_train.shape[0],num_pix).astype('float32')\n",
    "X_test = X_test.reshape(X_test.shape[0],num_pix).astype('float32')\n"
   ]
  },
  {
   "cell_type": "markdown",
   "metadata": {},
   "source": [
    "Now, since the image has been converted to 784 length vector and since it's a gray scale image having range 0-255 , therefore it is always better to do some scaling."
   ]
  },
  {
   "cell_type": "code",
   "execution_count": 6,
   "metadata": {},
   "outputs": [],
   "source": [
    "#normalization\n",
    "X_train = X_train/255\n",
    "X_test = X_test/255\n"
   ]
  },
  {
   "cell_type": "markdown",
   "metadata": {},
   "source": [
    "we know that our labels include letters from 0-9, therefore it's better to convert it into one - hot encoding vector for this multiclass classification problem. We can do it using to_categorical() function"
   ]
  },
  {
   "cell_type": "code",
   "execution_count": 7,
   "metadata": {},
   "outputs": [
    {
     "name": "stdout",
     "output_type": "stream",
     "text": [
      "(10000, 10)\n"
     ]
    }
   ],
   "source": [
    "y_train = np_utils.to_categorical(y_train)\n",
    "y_test = np_utils.to_categorical(y_test)\n",
    "print(y_test.shape)\n",
    "num_classes = y_test.shape[1]"
   ]
  },
  {
   "cell_type": "markdown",
   "metadata": {},
   "source": [
    "we create and compile a baseline model . We'll further change the layer, lengths and model type to improve the accuracy."
   ]
  },
  {
   "cell_type": "code",
   "execution_count": 8,
   "metadata": {},
   "outputs": [],
   "source": [
    "def baseline_model():\n",
    "    model = Sequential()\n",
    "    model.add(Dense(num_pix, input_dim=num_pix, kernel_initializer='normal', activation='relu'))\n",
    "    model.add(Dense(num_classes, kernel_initializer='normal', activation='softmax'))\n",
    "    model.summary()\n",
    "    model.compile(loss='categorical_crossentropy', optimizer='adam', metrics=['accuracy'])\n",
    "    \n",
    "    return model"
   ]
  },
  {
   "cell_type": "markdown",
   "metadata": {},
   "source": [
    "We have created a simple model for baseline with a hidden layer with 784 neurons as input.For hidden layer, we have used ReLU(rectified linear unit) activation function.For output layer, we have used softmax activation function.\n",
    "For compiling , we have used categorical cross entropy loss function, adam optimizer and accuracy metric.\n"
   ]
  },
  {
   "cell_type": "markdown",
   "metadata": {},
   "source": [
    "We can now fit and evaluate the model. The model is fit over 10 epochs with updates every 200 images. The test data is used as the validation dataset, allowing you to see the skill of the model as it trains. A verbose value of 2 is used to reduce the output to one line for each training epoch."
   ]
  },
  {
   "cell_type": "code",
   "execution_count": 9,
   "metadata": {},
   "outputs": [
    {
     "name": "stdout",
     "output_type": "stream",
     "text": [
      "_________________________________________________________________\n",
      "Layer (type)                 Output Shape              Param #   \n",
      "=================================================================\n",
      "dense_1 (Dense)              (None, 784)               615440    \n",
      "_________________________________________________________________\n",
      "dense_2 (Dense)              (None, 10)                7850      \n",
      "=================================================================\n",
      "Total params: 623,290\n",
      "Trainable params: 623,290\n",
      "Non-trainable params: 0\n",
      "_________________________________________________________________\n",
      "Train on 60000 samples, validate on 10000 samples\n",
      "Epoch 1/10\n",
      " - 11s - loss: 0.2786 - acc: 0.9211 - val_loss: 0.1412 - val_acc: 0.9573\n",
      "Epoch 2/10\n",
      " - 10s - loss: 0.1117 - acc: 0.9678 - val_loss: 0.0926 - val_acc: 0.9711\n",
      "Epoch 3/10\n",
      " - 10s - loss: 0.0720 - acc: 0.9794 - val_loss: 0.0779 - val_acc: 0.9769\n",
      "Epoch 4/10\n",
      " - 10s - loss: 0.0504 - acc: 0.9856 - val_loss: 0.0744 - val_acc: 0.9768\n",
      "Epoch 5/10\n",
      " - 10s - loss: 0.0373 - acc: 0.9894 - val_loss: 0.0685 - val_acc: 0.9783\n",
      "Epoch 6/10\n",
      " - 10s - loss: 0.0268 - acc: 0.9928 - val_loss: 0.0633 - val_acc: 0.9808\n",
      "Epoch 7/10\n",
      " - 10s - loss: 0.0206 - acc: 0.9949 - val_loss: 0.0626 - val_acc: 0.9812\n",
      "Epoch 8/10\n",
      " - 10s - loss: 0.0139 - acc: 0.9969 - val_loss: 0.0640 - val_acc: 0.9795\n",
      "Epoch 9/10\n",
      " - 10s - loss: 0.0110 - acc: 0.9979 - val_loss: 0.0597 - val_acc: 0.9804\n",
      "Epoch 10/10\n",
      " - 10s - loss: 0.0079 - acc: 0.9986 - val_loss: 0.0601 - val_acc: 0.9814\n"
     ]
    },
    {
     "data": {
      "image/png": "[encoded data removed]",
      "text/plain": [
       "<Figure size 432x288 with 1 Axes>"
      ]
     },
     "metadata": {},
     "output_type": "display_data"
    },
    {
     "name": "stdout",
     "output_type": "stream",
     "text": [
      "Test loss: 0.0601\n",
      "Test accuracy: 0.981\n"
     ]
    }
   ],
   "source": [
    "model = baseline_model()\n",
    "# Fit the model\n",
    "history = model.fit(X_train, y_train, validation_data=(X_test, y_test), epochs=10, batch_size=200, verbose=2)\n",
    "# evaluation of the model\n",
    "loss, accuracy = model.evaluate(X_test, y_test, verbose=0)\n",
    "\n",
    "plt.plot(history.history['acc'])\n",
    "plt.plot(history.history['val_acc'])\n",
    "plt.title('model accuracy')\n",
    "plt.ylabel('accuracy')\n",
    "plt.xlabel('epoch')\n",
    "plt.legend(['training', 'validation'], loc='best')\n",
    "plt.show()\n",
    "\n",
    "\n",
    "print(f'Test loss: {loss:.3}')\n",
    "print(f'Test accuracy: {accuracy:.3}')"
   ]
  },
  {
   "cell_type": "markdown",
   "metadata": {},
   "source": [
    "Thus, we are getting a test loss of 0.0601"
   ]
  },
  {
   "cell_type": "markdown",
   "metadata": {},
   "source": [
    "## Convolutional Neural Network Model "
   ]
  },
  {
   "cell_type": "markdown",
   "metadata": {},
   "source": [
    "we will create a simple CNN for MNIST that demonstrates how to use all of the aspects of a modern CNN implementation, including Convolutional layers, Pooling layers and Dropout layers."
   ]
  },
  {
   "cell_type": "code",
   "execution_count": 10,
   "metadata": {},
   "outputs": [],
   "source": [
    "#import classes \n",
    "from keras.layers import Flatten\n",
    "from keras.layers.convolutional import Conv2D\n",
    "from keras.layers.convolutional import MaxPooling2D"
   ]
  },
  {
   "cell_type": "code",
   "execution_count": 11,
   "metadata": {},
   "outputs": [],
   "source": [
    "seed =7\n",
    "np.random.seed(seed)\n"
   ]
  },
  {
   "cell_type": "markdown",
   "metadata": {},
   "source": [
    "The Convolution2D layers in Keras however, are designed to work with 3 dimensions per example. They have 4-dimensional inputs and outputs.So,we reshape the data."
   ]
  },
  {
   "cell_type": "code",
   "execution_count": 12,
   "metadata": {},
   "outputs": [],
   "source": [
    "(X_train,y_train),(X_test,y_test) = mnist.load_data()\n",
    "X_train = X_train.reshape(X_train.shape[0],1,28,28).astype('float32')\n",
    "X_test = X_test.reshape(X_test.shape[0],1,28,28).astype('float32')"
   ]
  },
  {
   "cell_type": "markdown",
   "metadata": {},
   "source": [
    "Now, we normalise the input between 0 to 1 and tranform output into one hot encoded vectors"
   ]
  },
  {
   "cell_type": "code",
   "execution_count": 13,
   "metadata": {},
   "outputs": [],
   "source": [
    "X_train = X_train/255\n",
    "X_test = X_test/255\n",
    "\n",
    "y_train = np_utils.to_categorical(y_train)\n",
    "y_test = np_utils.to_categorical(y_test)\n",
    "num_classes = y_test.shape[1]"
   ]
  },
  {
   "cell_type": "markdown",
   "metadata": {},
   "source": [
    "layers of CNN :\n",
    "\n",
    "- The first hidden layer is a convolutional layer called a Convolution2D. The layer has 32 feature maps, which with the size of 5×5 and a rectifier activation function. This is the input layer, expecting images with the structure outline above [pixels][width][height].\n",
    "\n",
    "- Next we define a pooling layer that takes the max called MaxPooling2D. It is configured with a pool size of 2×2.\n",
    "- The next layer is a regularization layer using dropout called Dropout. It is configured to randomly exclude 20% of neurons in the layer in order to reduce overfitting.\n",
    "- Next is a layer that converts the 2D matrix data to a vector called Flatten. It allows the output to be processed by standard fully connected layers.\n",
    "- Next a fully connected layer with 128 neurons and rectifier activation function.\n",
    "- Finally, the output layer has 10 neurons for the 10 classes and a softmax activation function to output probability-like predictions for each class."
   ]
  },
  {
   "cell_type": "code",
   "execution_count": 19,
   "metadata": {},
   "outputs": [],
   "source": [
    "def CNN1():\n",
    "    model = Sequential()\n",
    "    model.add(Conv2D(32, (5, 5),data_format='channels_first', input_shape=(1, 28, 28), activation='relu'))\n",
    "    model.add(MaxPooling2D(pool_size=(2, 2)))\n",
    "    model.add(Dropout(0.2))\n",
    "    model.add(Flatten())\n",
    "    model.add(Dense(128, activation='relu'))\n",
    "    model.add(Dense(num_classes, activation='softmax'))\n",
    "    model.summary()\n",
    "    # Compile model\n",
    "    model.compile(loss='categorical_crossentropy', optimizer='adam', metrics=['accuracy'])\n",
    "    return model"
   ]
  },
  {
   "cell_type": "code",
   "execution_count": 20,
   "metadata": {},
   "outputs": [
    {
     "name": "stdout",
     "output_type": "stream",
     "text": [
      "_________________________________________________________________\n",
      "Layer (type)                 Output Shape              Param #   \n",
      "=================================================================\n",
      "conv2d_3 (Conv2D)            (None, 32, 24, 24)        832       \n",
      "_________________________________________________________________\n",
      "max_pooling2d_1 (MaxPooling2 (None, 16, 12, 24)        0         \n",
      "_________________________________________________________________\n",
      "dropout_1 (Dropout)          (None, 16, 12, 24)        0         \n",
      "_________________________________________________________________\n",
      "flatten_1 (Flatten)          (None, 4608)              0         \n",
      "_________________________________________________________________\n",
      "dense_3 (Dense)              (None, 128)               589952    \n",
      "_________________________________________________________________\n",
      "dense_4 (Dense)              (None, 10)                1290      \n",
      "=================================================================\n",
      "Total params: 592,074\n",
      "Trainable params: 592,074\n",
      "Non-trainable params: 0\n",
      "_________________________________________________________________\n",
      "Train on 60000 samples, validate on 10000 samples\n",
      "Epoch 1/10\n",
      " - 180s - loss: 0.2360 - acc: 0.9324 - val_loss: 0.0834 - val_acc: 0.9742\n",
      "Epoch 2/10\n",
      " - 180s - loss: 0.0713 - acc: 0.9788 - val_loss: 0.0550 - val_acc: 0.9822\n",
      "Epoch 3/10\n",
      " - 181s - loss: 0.0505 - acc: 0.9848 - val_loss: 0.0410 - val_acc: 0.9863\n",
      "Epoch 4/10\n",
      " - 178s - loss: 0.0408 - acc: 0.9878 - val_loss: 0.0408 - val_acc: 0.9867\n",
      "Epoch 5/10\n",
      " - 120s - loss: 0.0330 - acc: 0.9896 - val_loss: 0.0431 - val_acc: 0.9853\n",
      "Epoch 6/10\n",
      " - 104s - loss: 0.0276 - acc: 0.9912 - val_loss: 0.0309 - val_acc: 0.9899\n",
      "Epoch 7/10\n",
      " - 107s - loss: 0.0218 - acc: 0.9932 - val_loss: 0.0423 - val_acc: 0.9861\n",
      "Epoch 8/10\n",
      " - 108s - loss: 0.0184 - acc: 0.9942 - val_loss: 0.0322 - val_acc: 0.9890\n",
      "Epoch 9/10\n",
      " - 110s - loss: 0.0157 - acc: 0.9950 - val_loss: 0.0312 - val_acc: 0.9898\n",
      "Epoch 10/10\n",
      " - 104s - loss: 0.0145 - acc: 0.9951 - val_loss: 0.0371 - val_acc: 0.9881\n"
     ]
    },
    {
     "data": {
      "image/png": "[encoded data removed]",
      "text/plain": [
       "<Figure size 432x288 with 1 Axes>"
      ]
     },
     "metadata": {},
     "output_type": "display_data"
    },
    {
     "name": "stdout",
     "output_type": "stream",
     "text": [
      "Test loss: 0.0371\n",
      "Test accuracy: 0.988\n"
     ]
    }
   ],
   "source": [
    "model = CNN1()\n",
    "# Fit the model\n",
    "history = model.fit(X_train, y_train, validation_data=(X_test, y_test), epochs=10, batch_size=200, verbose=2)\n",
    "# evaluation of the model\n",
    "loss, accuracy = model.evaluate(X_test, y_test, verbose=0)\n",
    "\n",
    "plt.plot(history.history['acc'])\n",
    "plt.plot(history.history['val_acc'])\n",
    "plt.title('model accuracy')\n",
    "plt.ylabel('accuracy')\n",
    "plt.xlabel('epoch')\n",
    "plt.legend(['training', 'validation'], loc='best')\n",
    "plt.show()\n",
    "\n",
    "\n",
    "print(f'Test loss: {loss:.3}')\n",
    "print(f'Test accuracy: {accuracy:.3}')"
   ]
  },
  {
   "cell_type": "code",
   "execution_count": 25,
   "metadata": {},
   "outputs": [
    {
     "name": "stdout",
     "output_type": "stream",
     "text": [
      "Test loss: 0.038493\n",
      "Test accuracy: 0.9879\n"
     ]
    }
   ],
   "source": [
    "print(f'Test loss: {loss:.5}')\n",
    "print(f'Test accuracy: {accuracy:.5}')"
   ]
  },
  {
   "cell_type": "markdown",
   "metadata": {},
   "source": [
    "we can see here that final CNN error is 1.19%"
   ]
  },
  {
   "cell_type": "markdown",
   "metadata": {},
   "source": [
    "So, we have implemented a small CNN model. Now, we will try to implement a larger model "
   ]
  },
  {
   "cell_type": "markdown",
   "metadata": {},
   "source": [
    "- Convolutional layer with 30 feature maps of size 5×5.\n",
    "- Pooling layer taking the max over 2*2 patches.\n",
    "- Convolutional layer with 15 feature maps of size 3×3.\n",
    "- Pooling layer taking the max over 2*2 patches.\n",
    "- Dropout layer with a probability of 20%.\n",
    "- Flatten layer.\n",
    "- Fully connected layer with 128 neurons and rectifier activation.\n",
    "- Fully connected layer with 50 neurons and rectifier activation.\n",
    "- Output layer.\n"
   ]
  },
  {
   "cell_type": "code",
   "execution_count": 21,
   "metadata": {},
   "outputs": [],
   "source": [
    "def CNN2():\n",
    "    model = Sequential()\n",
    "    model.add(Conv2D(30, (5, 5),data_format='channels_first', input_shape=(1, 28, 28), activation='relu'))\n",
    "    model.add(MaxPooling2D(pool_size=(2, 2)))\n",
    "    model.add(Conv2D(15, (3, 3), activation='relu'))\n",
    "    model.add(MaxPooling2D(pool_size=(2, 2)))\n",
    "    model.add(Dropout(0.2))\n",
    "    model.add(Flatten())\n",
    "    model.add(Dense(128, activation='relu'))\n",
    "    model.add(Dense(50, activation='relu'))\n",
    "    model.add(Dense(num_classes, activation='softmax'))\n",
    "    model.summary()\n",
    "    model.compile(loss='categorical_crossentropy', optimizer='adam', metrics=['accuracy'])\n",
    "    return model"
   ]
  },
  {
   "cell_type": "code",
   "execution_count": 22,
   "metadata": {},
   "outputs": [
    {
     "name": "stdout",
     "output_type": "stream",
     "text": [
      "_________________________________________________________________\n",
      "Layer (type)                 Output Shape              Param #   \n",
      "=================================================================\n",
      "conv2d_4 (Conv2D)            (None, 30, 24, 24)        780       \n",
      "_________________________________________________________________\n",
      "max_pooling2d_2 (MaxPooling2 (None, 15, 12, 24)        0         \n",
      "_________________________________________________________________\n",
      "conv2d_5 (Conv2D)            (None, 13, 10, 15)        3255      \n",
      "_________________________________________________________________\n",
      "max_pooling2d_3 (MaxPooling2 (None, 6, 5, 15)          0         \n",
      "_________________________________________________________________\n",
      "dropout_2 (Dropout)          (None, 6, 5, 15)          0         \n",
      "_________________________________________________________________\n",
      "flatten_2 (Flatten)          (None, 450)               0         \n",
      "_________________________________________________________________\n",
      "dense_5 (Dense)              (None, 128)               57728     \n",
      "_________________________________________________________________\n",
      "dense_6 (Dense)              (None, 50)                6450      \n",
      "_________________________________________________________________\n",
      "dense_7 (Dense)              (None, 10)                510       \n",
      "=================================================================\n",
      "Total params: 68,723\n",
      "Trainable params: 68,723\n",
      "Non-trainable params: 0\n",
      "_________________________________________________________________\n",
      "Train on 60000 samples, validate on 10000 samples\n",
      "Epoch 1/10\n",
      "60000/60000 [==============================] - 982s 16ms/step - loss: 0.4645 - acc: 0.8574 - val_loss: 0.1354 - val_acc: 0.9578\n",
      "Epoch 2/10\n",
      "60000/60000 [==============================] - 1162s 19ms/step - loss: 0.1326 - acc: 0.9591 - val_loss: 0.0754 - val_acc: 0.9775\n",
      "Epoch 3/10\n",
      "60000/60000 [==============================] - 13204s 220ms/step - loss: 0.0931 - acc: 0.9711 - val_loss: 0.0557 - val_acc: 0.9822\n",
      "Epoch 4/10\n",
      "60000/60000 [==============================] - 1068s 18ms/step - loss: 0.0735 - acc: 0.9772 - val_loss: 0.0498 - val_acc: 0.9839\n",
      "Epoch 5/10\n",
      "60000/60000 [==============================] - 1067s 18ms/step - loss: 0.0605 - acc: 0.9815 - val_loss: 0.0435 - val_acc: 0.9852\n",
      "Epoch 6/10\n",
      "60000/60000 [==============================] - 1032s 17ms/step - loss: 0.0529 - acc: 0.9837 - val_loss: 0.0402 - val_acc: 0.9872\n",
      "Epoch 7/10\n",
      "60000/60000 [==============================] - 1122s 19ms/step - loss: 0.0478 - acc: 0.9850 - val_loss: 0.0417 - val_acc: 0.9869\n",
      "Epoch 8/10\n",
      "60000/60000 [==============================] - 1117s 19ms/step - loss: 0.0440 - acc: 0.9863 - val_loss: 0.0356 - val_acc: 0.9886\n",
      "Epoch 9/10\n",
      "60000/60000 [==============================] - 1116s 19ms/step - loss: 0.0384 - acc: 0.9879 - val_loss: 0.0368 - val_acc: 0.9873\n",
      "Epoch 10/10\n",
      "60000/60000 [==============================] - 1088s 18ms/step - loss: 0.0357 - acc: 0.9887 - val_loss: 0.0385 - val_acc: 0.9879\n"
     ]
    },
    {
     "data": {
      "image/png": "[encoded data removed]",
      "text/plain": [
       "<Figure size 432x288 with 1 Axes>"
      ]
     },
     "metadata": {},
     "output_type": "display_data"
    },
    {
     "name": "stdout",
     "output_type": "stream",
     "text": [
      "Test loss: 0.0385\n",
      "Test accuracy: 0.988\n"
     ]
    }
   ],
   "source": [
    "model = CNN2()\n",
    "# Fit the model\n",
    "history = model.fit(X_train, y_train, validation_data=(X_test, y_test), epochs=10, batch_size=200)\n",
    "# evaluation of the model\n",
    "loss, accuracy = model.evaluate(X_test, y_test, verbose=0)\n",
    "\n",
    "plt.plot(history.history['acc'])\n",
    "plt.plot(history.history['val_acc'])\n",
    "plt.title('model accuracy')\n",
    "plt.ylabel('accuracy')\n",
    "plt.xlabel('epoch')\n",
    "plt.legend(['training', 'validation'], loc='best')\n",
    "plt.show()\n",
    "\n",
    "\n",
    "print(f'Test loss: {loss:.3}')\n",
    "print(f'Test accuracy: {accuracy:.3}')"
   ]
  },
  {
   "cell_type": "code",
   "execution_count": 23,
   "metadata": {},
   "outputs": [
    {
     "name": "stdout",
     "output_type": "stream",
     "text": [
      "Test loss: 0.038493\n",
      "Test accuracy: 0.9879\n"
     ]
    }
   ],
   "source": [
    "print(f'Test loss: {loss:.5}')\n",
    "print(f'Test accuracy: {accuracy:.5}')"
   ]
  },
  {
   "cell_type": "markdown",
   "metadata": {},
   "source": [
    "In this case also, accuracy is almost same as the previous case, when we had a simple CNN model. But now, one thind we can observe by comparing the plots that in case of simple CNN model, training accuracy was much high and it was higher than validation accuracy, so there may be a case of overfitting but in this case we can see that training and validation accuracy are almost same at last, so probably there is no overfitting."
   ]
  },
  {
   "cell_type": "markdown",
   "metadata": {},
   "source": [
    "We can increase the accuracy further more by playing with the layers and it's units."
   ]
  },
  {
   "cell_type": "code",
   "execution_count": null,
   "metadata": {},
   "outputs": [],
   "source": []
  }
 ],
 "metadata": {
  "kernelspec": {
   "display_name": "Python 3",
   "language": "python",
   "name": "python3"
  },
  "language_info": {
   "codemirror_mode": {
    "name": "ipython",
    "version": 3
   },
   "file_extension": ".py",
   "mimetype": "text/x-python",
   "name": "python",
   "nbconvert_exporter": "python",
   "pygments_lexer": "ipython3",
   "version": "3.6.4"
  }
 },
 "nbformat": 4,
 "nbformat_minor": 2
}
